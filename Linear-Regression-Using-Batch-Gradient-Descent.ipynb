{
 "cells": [
  {
   "cell_type": "markdown",
   "metadata": {},
   "source": [
    "# Linear Regression with Batch Gradient Descent for optimization\n",
    "# Using matrices"
   ]
  },
  {
   "cell_type": "code",
   "execution_count": 45,
   "metadata": {},
   "outputs": [],
   "source": [
    "import numpy as np\n",
    "import pandas as pd\n",
    "import matplotlib.pyplot as plt\n",
    "import seaborn as sns\n",
    "from scipy import stats,linalg\n",
    "from sklearn.linear_model import LinearRegression\n",
    "%matplotlib inline"
   ]
  },
  {
   "cell_type": "code",
   "execution_count": null,
   "metadata": {},
   "outputs": [],
   "source": [
    "# Simple linear regression: Y = WX\n",
    "# m is number of training examples\n",
    "# Y is m-by-1 labels matrix\n",
    "# X is m-by-n features matrix\n",
    "# W is 2-by-1 parameters matrix, \n",
    "# B is m-by-1 error matrix"
   ]
  },
  {
   "cell_type": "code",
   "execution_count": null,
   "metadata": {},
   "outputs": [],
   "source": [
    "# #Splitting data into two sets, train and test.\n",
    "# x_train, x_test, y_train, y_test = data[:80,:2], data[80:,:2], data[:80,2], data[80:,2]\n",
    "# y_train, y_test = y_train.reshape(80,1), y_test.reshape(20,1)"
   ]
  },
  {
   "cell_type": "code",
   "execution_count": 35,
   "metadata": {},
   "outputs": [],
   "source": [
    "#Calculate the Mean Square Error (MSE) and cost (weighted mean square error)\n",
    "def cost(parameters,features,labels):\n",
    "    m = len(labels) #Number of training examples\n",
    "    predicted_values = np.dot(features,parameters)\n",
    "    error = predicted_values - labels\n",
    "    MSE = (1/m) * np.sum(np.square(error))\n",
    "    return MSE"
   ]
  },
  {
   "cell_type": "code",
   "execution_count": 3,
   "metadata": {},
   "outputs": [],
   "source": [
    "#Calculating the gradient\n",
    "def gradient_descent(parameters, x, y, alpha, epoch):\n",
    "    cost_history = np.zeros(epoch)\n",
    "    parameter_history = np.zeros((epoch,2))\n",
    "    m = len(x)\n",
    "    for i in range(epoch):        \n",
    "        predicted_values = x.dot(parameters)\n",
    "        # Update the values of W_0 and W_1\n",
    "        parameters = parameters - alpha * (1/m) * np.dot(x.transpose(),(predicted_values - y))\n",
    "        parameter_history[i:] = parameters.T\n",
    "        cost_history[i] = cost(parameters,x,y)\n",
    "    return parameters, cost_history, parameter_history"
   ]
  },
  {
   "cell_type": "code",
   "execution_count": 31,
   "metadata": {},
   "outputs": [],
   "source": [
    "#Creat data, x as feature and y as labels\n",
    "x = np.random.rand(97,1)\n",
    "y = 4 +3 * x+np.random.randn(97,1)\n",
    "x = np.c_[np.ones(len(x)), x]"
   ]
  },
  {
   "cell_type": "code",
   "execution_count": 43,
   "metadata": {},
   "outputs": [
    {
     "name": "stdout",
     "output_type": "stream",
     "text": [
      "Parameter W0: [4.19926273], Parameter W1: [2.6702939] \n",
      "MSE: 1.12\n"
     ]
    }
   ],
   "source": [
    "#Initialize the parameters vector with random values for W0, W1 respectively.\n",
    "parameters = np.random.randn(2,1)\n",
    "#Run the gradient algorithm\n",
    "w, cost_hist, para_hist = gradient_descent(parameters,x, y, alpha= 0.05, epoch= 1000)\n",
    "print('Parameter W0: {0}, Parameter W1: {1} '.format(w[0],w[1]))\n",
    "print('MSE: {0}'.format(round(cost_hist[-1],2)))"
   ]
  },
  {
   "cell_type": "code",
   "execution_count": null,
   "metadata": {},
   "outputs": [],
   "source": []
  },
  {
   "cell_type": "code",
   "execution_count": 38,
   "metadata": {},
   "outputs": [
    {
     "name": "stdout",
     "output_type": "stream",
     "text": [
      "Parameter W0: [4.1948181], Parameter W1: [2.67911765] \n"
     ]
    }
   ],
   "source": [
    "# Finding the parameters analytically using normal equations\n",
    "xtrans_x = np.dot(x.transpose(),x)\n",
    "xtrans_x_inv = linalg.inv(xtrans_x)\n",
    "xtrans_x_inv_xtrans = np.dot(xtrans_x_inv,x.transpose())\n",
    "parameters_analytical = np.dot(xtrans_x_inv_xtrans,y)\n",
    "print('Parameter W0: {0}, Parameter W1: {1} '.format(parameters_analytical[0],parameters_analytical[1]))"
   ]
  },
  {
   "cell_type": "markdown",
   "metadata": {},
   "source": [
    "# SLR using Sci-Kit learn"
   ]
  },
  {
   "cell_type": "code",
   "execution_count": 47,
   "metadata": {},
   "outputs": [],
   "source": [
    "#Create an instance of the linear regression\n",
    "lm = LinearRegression()"
   ]
  },
  {
   "cell_type": "code",
   "execution_count": 48,
   "metadata": {},
   "outputs": [
    {
     "data": {
      "text/plain": [
       "LinearRegression(copy_X=True, fit_intercept=True, n_jobs=None,\n",
       "         normalize=False)"
      ]
     },
     "execution_count": 48,
     "metadata": {},
     "output_type": "execute_result"
    }
   ],
   "source": [
    "#Fit a linear model\n",
    "lm.fit(x,y)"
   ]
  },
  {
   "cell_type": "code",
   "execution_count": 49,
   "metadata": {},
   "outputs": [
    {
     "data": {
      "text/plain": [
       "array([[0.        , 2.67911765]])"
      ]
     },
     "execution_count": 49,
     "metadata": {},
     "output_type": "execute_result"
    }
   ],
   "source": [
    "#Check the parameter W1\n",
    "lm.coef_"
   ]
  },
  {
   "cell_type": "code",
   "execution_count": 50,
   "metadata": {},
   "outputs": [
    {
     "data": {
      "text/plain": [
       "array([4.1948181])"
      ]
     },
     "execution_count": 50,
     "metadata": {},
     "output_type": "execute_result"
    }
   ],
   "source": [
    "#Check the intercept\n",
    "lm.intercept_"
   ]
  }
 ],
 "metadata": {
  "kernelspec": {
   "display_name": "Python 3",
   "language": "python",
   "name": "python3"
  },
  "language_info": {
   "codemirror_mode": {
    "name": "ipython",
    "version": 3
   },
   "file_extension": ".py",
   "mimetype": "text/x-python",
   "name": "python",
   "nbconvert_exporter": "python",
   "pygments_lexer": "ipython3",
   "version": "3.6.7"
  }
 },
 "nbformat": 4,
 "nbformat_minor": 2
}
