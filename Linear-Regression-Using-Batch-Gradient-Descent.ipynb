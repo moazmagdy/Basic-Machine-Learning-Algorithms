{
 "cells": [
  {
   "cell_type": "markdown",
   "metadata": {},
   "source": [
    "# Linear Regression with Batch Gradient Descent for optimization\n",
    "# Using matrices"
   ]
  },
  {
   "cell_type": "code",
   "execution_count": null,
   "metadata": {},
   "outputs": [],
   "source": [
    "import numpy as np\n",
    "import pandas as pd\n",
    "import matplotlib.pyplot as plt\n",
    "import seaborn as sns\n",
    "from scipy import stats,linalg\n",
    "from sklearn.linear_model import LinearRegression\n",
    "from sklearn.metrics import mean_squared_error\n",
    "%matplotlib inline"
   ]
  },
  {
   "cell_type": "code",
   "execution_count": null,
   "metadata": {},
   "outputs": [],
   "source": [
    "# Simple linear regression: Y = WX\n",
    "# m is number of training examples\n",
    "# Y is m-by-1 labels matrix\n",
    "# X is m-by-n features matrix\n",
    "# W is 2-by-1 parameters matrix, \n",
    "# B is m-by-1 error matrix"
   ]
  },
  {
   "cell_type": "code",
   "execution_count": null,
   "metadata": {},
   "outputs": [],
   "source": [
    "#Calculate the Mean Square Error (MSE) and cost (weighted mean square error)\n",
    "def cost(predicted_values,labels):\n",
    "    m = len(labels) #Number of training examples\n",
    "    error = predicted_values - labels\n",
    "    MSE = (1/m) * np.sum(np.square(error))\n",
    "    return MSE"
   ]
  },
  {
   "cell_type": "code",
   "execution_count": null,
   "metadata": {},
   "outputs": [],
   "source": [
    "#Calculating the gradient\n",
    "def gradient_descent(parameters, x, y, alpha, epoch):\n",
    "    cost_history = []\n",
    "    parameter_history = np.zeros((epoch,2))\n",
    "    m = len(x)\n",
    "    for i in range(epoch):        \n",
    "        predicted_values = x.dot(parameters)\n",
    "        # Update the values of W_0 and W_1\n",
    "        parameters = parameters - alpha * (1/m) * np.dot(x.transpose(),(predicted_values - y))\n",
    "        parameter_history[i:] = parameters.T\n",
    "        cost_history.append(cost(predicted_values,y))\n",
    "    return parameters, cost_history, parameter_history"
   ]
  },
  {
   "cell_type": "code",
   "execution_count": null,
   "metadata": {},
   "outputs": [],
   "source": [
    "#Creat data, x as feature and y as response\n",
    "x = np.random.rand(10000,1)\n",
    "y = 4 +3 * x+np.random.randn(len(x),1)\n",
    "x = np.c_[np.ones(len(x)), x]"
   ]
  },
  {
   "cell_type": "code",
   "execution_count": null,
   "metadata": {},
   "outputs": [],
   "source": [
    "#Initialize the parameters vector with random values for W0, W1 respectively.\n",
    "parameters = np.random.randn(2,1)\n",
    "#Run the gradient algorithm\n",
    "w, cost_hist, para_hist = gradient_descent(parameters,x, y, alpha= 0.05, epoch= 1000)\n",
    "print('Parameter W0: {0}, Parameter W1: {1} '.format(w[0],w[1]))\n",
    "print('MSE: {0}'.format(cost_hist[-1]))"
   ]
  },
  {
   "cell_type": "markdown",
   "metadata": {},
   "source": [
    "# Using Normal equations"
   ]
  },
  {
   "cell_type": "code",
   "execution_count": null,
   "metadata": {},
   "outputs": [],
   "source": [
    "# Finding the parameters analytically using normal equations\n",
    "xtrans_x = np.dot(x.transpose(),x)\n",
    "xtrans_x_inv = linalg.inv(xtrans_x)\n",
    "xtrans_x_inv_xtrans = np.dot(xtrans_x_inv,x.transpose())\n",
    "parameters_analytical = np.dot(xtrans_x_inv_xtrans,y)\n",
    "print('Parameter W0: {0}, Parameter W1: {1} '.format(parameters_analytical[0],parameters_analytical[1]))"
   ]
  },
  {
   "cell_type": "markdown",
   "metadata": {},
   "source": [
    "# Linear Regression using Sci-Kit learn"
   ]
  },
  {
   "cell_type": "code",
   "execution_count": null,
   "metadata": {},
   "outputs": [],
   "source": [
    "#Create an instance of the linear regression\n",
    "lm = LinearRegression()"
   ]
  },
  {
   "cell_type": "code",
   "execution_count": null,
   "metadata": {},
   "outputs": [],
   "source": [
    "#Fit a linear model\n",
    "lm.fit(x,y)"
   ]
  },
  {
   "cell_type": "code",
   "execution_count": null,
   "metadata": {},
   "outputs": [],
   "source": [
    "#Check the parameter W1\n",
    "lm.coef_"
   ]
  },
  {
   "cell_type": "code",
   "execution_count": null,
   "metadata": {},
   "outputs": [],
   "source": [
    "#Check the intercept W0\n",
    "lm.intercept_"
   ]
  },
  {
   "cell_type": "code",
   "execution_count": null,
   "metadata": {},
   "outputs": [],
   "source": [
    "#Make the response for X.\n",
    "y_pred = lm.predict(x)"
   ]
  },
  {
   "cell_type": "code",
   "execution_count": null,
   "metadata": {},
   "outputs": [],
   "source": [
    "#Calculate the MSE\n",
    "mean_squared_error(y,y_pred)"
   ]
  }
 ],
 "metadata": {
  "kernelspec": {
   "display_name": "Python 3",
   "language": "python",
   "name": "python3"
  },
  "language_info": {
   "codemirror_mode": {
    "name": "ipython",
    "version": 3
   },
   "file_extension": ".py",
   "mimetype": "text/x-python",
   "name": "python",
   "nbconvert_exporter": "python",
   "pygments_lexer": "ipython3",
   "version": "3.6.7"
  }
 },
 "nbformat": 4,
 "nbformat_minor": 2
}
