{
 "cells": [
  {
   "cell_type": "markdown",
   "metadata": {},
   "source": [
    "We have artificial data for 50 startup (R&D spendings, Adminstration spendings, Marketing spendings, location/state, profit)."
   ]
  },
  {
   "cell_type": "markdown",
   "metadata": {},
   "source": [
    "We have introduced a column with random values to simualte the effect of noise in data."
   ]
  },
  {
   "cell_type": "markdown",
   "metadata": {},
   "source": [
    "The State feature has categorical data (Names of states)."
   ]
  },
  {
   "cell_type": "markdown",
   "metadata": {},
   "source": [
    "In this notebook, we will try:"
   ]
  },
  {
   "cell_type": "markdown",
   "metadata": {},
   "source": [
    "1. Feature scaling."
   ]
  },
  {
   "cell_type": "markdown",
   "metadata": {},
   "source": [
    "2. Feature standardization."
   ]
  },
  {
   "cell_type": "markdown",
   "metadata": {},
   "source": [
    "3. Feature selection using backward elimination method."
   ]
  },
  {
   "cell_type": "markdown",
   "metadata": {},
   "source": [
    "A linear regression model is fit for the data after applying each one of the above methods."
   ]
  },
  {
   "cell_type": "markdown",
   "metadata": {},
   "source": [
    "Different models are comapred in terms of (MAE, MSE, RMSE, R-Sq, R-Sq-Adj)."
   ]
  },
  {
   "cell_type": "code",
   "execution_count": null,
   "metadata": {},
   "outputs": [],
   "source": [
    "import numpy as np\n",
    "import pandas as pd\n",
    "import matplotlib.pyplot as plt\n",
    "import seaborn as sns\n",
    "from scipy import stats\n",
    "from sklearn.model_selection import train_test_split\n",
    "from sklearn.linear_model import LinearRegression\n",
    "from sklearn.metrics import mean_absolute_error,mean_squared_error,r2_score\n",
    "from sklearn.preprocessing import LabelEncoder, OneHotEncoder, StandardScaler, minmax_scale\n",
    "from sklearn.compose import ColumnTransformer\n",
    "\n",
    "%matplotlib inline"
   ]
  },
  {
   "cell_type": "code",
   "execution_count": null,
   "metadata": {},
   "outputs": [],
   "source": [
    "df = pd.read_csv('50_Startups.csv', delimiter = ';')\n",
    "df.head()"
   ]
  },
  {
   "cell_type": "code",
   "execution_count": null,
   "metadata": {
    "scrolled": true
   },
   "outputs": [],
   "source": [
    "#Summary of all numerical features\n",
    "df.describe()"
   ]
  },
  {
   "cell_type": "code",
   "execution_count": null,
   "metadata": {},
   "outputs": [],
   "source": [
    "#Summary of the categorical feature\n",
    "df.State.describe()"
   ]
  },
  {
   "cell_type": "code",
   "execution_count": null,
   "metadata": {},
   "outputs": [],
   "source": [
    "#Check for Null value\n",
    "df['R&D Spend'].isnull().values.any(),df['Administration'].isnull().values.any(), df['Marketing Spend'].isnull().values.any(),df['State'].isnull().values.any()"
   ]
  },
  {
   "cell_type": "code",
   "execution_count": null,
   "metadata": {},
   "outputs": [],
   "source": [
    "#Fill null values with the mean value of each column\n",
    "df['R&D Spend'] = df['R&D Spend'].fillna(df['R&D Spend'].mean())\n",
    "df['Administration'] = df['Administration'].fillna(df['Administration'].mean())\n",
    "df['Marketing Spend'] = df['Marketing Spend'].fillna(df['Marketing Spend'].mean())"
   ]
  },
  {
   "cell_type": "code",
   "execution_count": null,
   "metadata": {},
   "outputs": [],
   "source": [
    "df.info()"
   ]
  },
  {
   "cell_type": "code",
   "execution_count": null,
   "metadata": {},
   "outputs": [],
   "source": [
    "sns.pairplot(df)"
   ]
  },
  {
   "cell_type": "code",
   "execution_count": null,
   "metadata": {
    "scrolled": false
   },
   "outputs": [],
   "source": [
    "#Adding a new column with random numbers to simulate noise in the data\n",
    "# X variable represents the features\n",
    "# Y variable represents the response\n",
    "rand = pd.DataFrame(np.random.randint(1,1000,(df.shape[0],1)),columns=['random'])\n",
    "x = pd.concat([df.iloc[:,:-1] , rand], axis=1)\n",
    "y = df[['Profit']]\n",
    "x.shape, y.shape"
   ]
  },
  {
   "cell_type": "code",
   "execution_count": null,
   "metadata": {},
   "outputs": [],
   "source": [
    "x.head()"
   ]
  },
  {
   "cell_type": "code",
   "execution_count": null,
   "metadata": {},
   "outputs": [],
   "source": [
    "#Reordering the coulmns of x\n",
    "cols = x.columns.tolist()\n",
    "cols_reordered = [cols[3]] + cols[:3] + [cols[4]]"
   ]
  },
  {
   "cell_type": "code",
   "execution_count": null,
   "metadata": {},
   "outputs": [],
   "source": [
    "x = x[cols_reordered]\n",
    "x.head()"
   ]
  },
  {
   "cell_type": "code",
   "execution_count": null,
   "metadata": {},
   "outputs": [],
   "source": [
    "#Converting categorical non-numeric feature to numerical feature\n",
    "le = LabelEncoder()\n",
    "le.fit(x.State)\n",
    "le.classes_"
   ]
  },
  {
   "cell_type": "code",
   "execution_count": null,
   "metadata": {},
   "outputs": [],
   "source": [
    "x.State = le.transform(x.State)"
   ]
  },
  {
   "cell_type": "code",
   "execution_count": null,
   "metadata": {},
   "outputs": [],
   "source": [
    "x.head()"
   ]
  },
  {
   "cell_type": "code",
   "execution_count": null,
   "metadata": {},
   "outputs": [],
   "source": [
    "#Split the new categorical numeric feature into 3 binary columns (0, 1)\n",
    "ohe = OneHotEncoder(categorical_features=[0])"
   ]
  },
  {
   "cell_type": "code",
   "execution_count": null,
   "metadata": {},
   "outputs": [],
   "source": [
    "x = ohe.fit_transform(x.values).toarray()"
   ]
  },
  {
   "cell_type": "code",
   "execution_count": null,
   "metadata": {},
   "outputs": [],
   "source": [
    "#Creating a new dataframe for the sparse matrix\n",
    "cols2 = le.classes_.tolist() + cols_reordered[1:]"
   ]
  },
  {
   "cell_type": "code",
   "execution_count": null,
   "metadata": {},
   "outputs": [],
   "source": [
    "x = pd.DataFrame(x,columns=cols2)"
   ]
  },
  {
   "cell_type": "code",
   "execution_count": null,
   "metadata": {},
   "outputs": [],
   "source": [
    "x.shape, y.shape"
   ]
  },
  {
   "cell_type": "code",
   "execution_count": null,
   "metadata": {},
   "outputs": [],
   "source": [
    "#Drop one column from the three binary columns recently added (Dummy variable)\n",
    "x = x.drop(columns=['California'])"
   ]
  },
  {
   "cell_type": "markdown",
   "metadata": {},
   "source": [
    "# Linear Regression with original data"
   ]
  },
  {
   "cell_type": "markdown",
   "metadata": {},
   "source": [
    "Data has features of different scales, but we will fit a linear regression model without scaling and calculate some metrics (MAE, MSE, RMSE, R-Sq, R-Sq-Adj)."
   ]
  },
  {
   "cell_type": "code",
   "execution_count": null,
   "metadata": {},
   "outputs": [],
   "source": [
    "x_train, x_test, y_train, y_test = train_test_split(x, y, test_size = 0.2)"
   ]
  },
  {
   "cell_type": "code",
   "execution_count": null,
   "metadata": {},
   "outputs": [],
   "source": [
    "lm1 = LinearRegression()\n",
    "lm1.fit(x_train,y_train)"
   ]
  },
  {
   "cell_type": "code",
   "execution_count": null,
   "metadata": {},
   "outputs": [],
   "source": [
    "lm1.intercept_, lm1.coef_"
   ]
  },
  {
   "cell_type": "code",
   "execution_count": null,
   "metadata": {},
   "outputs": [],
   "source": [
    "y_pred1 = lm1.predict(x_test)"
   ]
  },
  {
   "cell_type": "code",
   "execution_count": null,
   "metadata": {},
   "outputs": [],
   "source": [
    "MAE1, MSE1, R_Sq1, RMSE1 = mean_absolute_error(y_test,y_pred1), mean_squared_error(y_test,y_pred1), r2_score(y_test,y_pred1), np.sqrt(mean_squared_error(y_test,y_pred1))"
   ]
  },
  {
   "attachments": {
    "image.png": {
     "image/png": "[encoded data removed]"
    }
   },
   "cell_type": "markdown",
   "metadata": {},
   "source": [
    "R-Sq-Adjusted formula:\n",
    "![image.png](attachment:image.png)\n",
    "where:\n",
    "    n: number of examples.\n",
    "    k: number of features."
   ]
  },
  {
   "cell_type": "code",
   "execution_count": null,
   "metadata": {},
   "outputs": [],
   "source": [
    "n = y_test.shape[0] \n",
    "p = y_test.shape[1]\n",
    "R_Sq_adj1 = 1 - (1 - R_Sq1) * ((n - 1)/(n - p - 1))"
   ]
  },
  {
   "cell_type": "code",
   "execution_count": null,
   "metadata": {},
   "outputs": [],
   "source": [
    "print('MAE: {}, MSE: {}, R-Sq: {}, RMSE: {}, R-Sq-Adj: {}'.format(round(MAE1,3), round(MSE1,3), round(R_Sq1,3), round(RMSE1,3), round(R_Sq_adj1,3)))"
   ]
  },
  {
   "cell_type": "markdown",
   "metadata": {},
   "source": [
    "# Linear Regression with Features Scaling"
   ]
  },
  {
   "cell_type": "code",
   "execution_count": null,
   "metadata": {},
   "outputs": [],
   "source": [
    "x_sc = minmax_scale(x)\n",
    "y_sc = minmax_scale(y)"
   ]
  },
  {
   "cell_type": "code",
   "execution_count": null,
   "metadata": {},
   "outputs": [],
   "source": [
    "x_train_sc, x_test_sc, y_train_sc, y_test_sc = train_test_split(x_sc, y_sc, test_size = 0.2)"
   ]
  },
  {
   "cell_type": "code",
   "execution_count": null,
   "metadata": {},
   "outputs": [],
   "source": [
    "lm2 = LinearRegression()\n",
    "lm2.fit(x_train_sc,y_train_sc)"
   ]
  },
  {
   "cell_type": "code",
   "execution_count": null,
   "metadata": {},
   "outputs": [],
   "source": [
    "lm2.intercept_, lm2.coef_"
   ]
  },
  {
   "cell_type": "code",
   "execution_count": null,
   "metadata": {},
   "outputs": [],
   "source": [
    "y_pred2 = lm2.predict(x_test_sc)"
   ]
  },
  {
   "cell_type": "code",
   "execution_count": null,
   "metadata": {},
   "outputs": [],
   "source": [
    "MAE2, MSE2, R_Sq2, RMSE2 = mean_absolute_error(y_test_sc,y_pred2), mean_squared_error(y_test_sc,y_pred2), r2_score(y_test_sc,y_pred2), np.sqrt(mean_squared_error(y_test_sc,y_pred2))\n",
    "R_Sq_adj2 = 1 - (1 - R_Sq2) * ((n - 1)/(n - p - 1))"
   ]
  },
  {
   "cell_type": "code",
   "execution_count": null,
   "metadata": {},
   "outputs": [],
   "source": [
    "print('MAE: {}, MSE: {}, R-squared: {}, RMSE: {}, R-Sq-Adj: {}'.format(round(MAE2,3), round(MSE2,3), round(R_Sq2,3), round(RMSE2,3), round(R_Sq_adj2,3)))"
   ]
  },
  {
   "cell_type": "markdown",
   "metadata": {},
   "source": [
    "# Linear Regression with Feature standardization"
   ]
  },
  {
   "cell_type": "code",
   "execution_count": null,
   "metadata": {},
   "outputs": [],
   "source": [
    "x_scaler = StandardScaler()\n",
    "y_scaler = StandardScaler()"
   ]
  },
  {
   "cell_type": "code",
   "execution_count": null,
   "metadata": {},
   "outputs": [],
   "source": [
    "x_st = x_scaler.fit_transform(x)\n",
    "y_st = y_scaler.fit_transform(y)"
   ]
  },
  {
   "cell_type": "code",
   "execution_count": null,
   "metadata": {},
   "outputs": [],
   "source": [
    "x_train_st, x_test_st, y_train_st, y_test_st = train_test_split(x_st, y_st, test_size = 0.2)"
   ]
  },
  {
   "cell_type": "code",
   "execution_count": null,
   "metadata": {},
   "outputs": [],
   "source": [
    "lm3 = LinearRegression()\n",
    "lm3.fit(x_train_st,y_train_st)"
   ]
  },
  {
   "cell_type": "code",
   "execution_count": null,
   "metadata": {},
   "outputs": [],
   "source": [
    "lm3.intercept_, lm3.coef_"
   ]
  },
  {
   "cell_type": "code",
   "execution_count": null,
   "metadata": {},
   "outputs": [],
   "source": [
    "y_pred3 = lm3.predict(x_test_st)"
   ]
  },
  {
   "cell_type": "code",
   "execution_count": null,
   "metadata": {},
   "outputs": [],
   "source": [
    "MAE3, MSE3, R_Sq3, RMSE3 = mean_absolute_error(y_test_st,y_pred3), mean_squared_error(y_test_st,y_pred3), r2_score(y_test_st,y_pred3), np.sqrt(mean_squared_error(y_test_st,y_pred3))\n",
    "R_Sq_adj3 = 1 - (1 - R_Sq3) * ((n - 1)/(n - p - 1))"
   ]
  },
  {
   "cell_type": "code",
   "execution_count": null,
   "metadata": {
    "scrolled": true
   },
   "outputs": [],
   "source": [
    "print('MAE: {}, MSE: {}, R-squared: {}, RMSE: {}, R-Sq-Adj: {}'.format(round(MAE3,3), round(MSE3,3), round(R_Sq3,3), round(RMSE3,3), round(R_Sq_adj3,3)))"
   ]
  },
  {
   "cell_type": "markdown",
   "metadata": {},
   "source": [
    "# Features selection using Backward Elimination Method"
   ]
  },
  {
   "cell_type": "code",
   "execution_count": null,
   "metadata": {},
   "outputs": [],
   "source": [
    "#Standardized data will be used\n",
    "#Create data frames for features and reponse data.\n",
    "x_df = pd.DataFrame(x_st,columns= x.columns.tolist())\n",
    "y_df = pd.DataFrame(y_st,columns=['Profit'])"
   ]
  },
  {
   "cell_type": "code",
   "execution_count": null,
   "metadata": {},
   "outputs": [],
   "source": [
    "x_df.head()"
   ]
  },
  {
   "cell_type": "code",
   "execution_count": null,
   "metadata": {},
   "outputs": [],
   "source": [
    "import statsmodels.api as sm\n",
    "sl = 0.05"
   ]
  },
  {
   "cell_type": "code",
   "execution_count": null,
   "metadata": {},
   "outputs": [],
   "source": [
    "# Add the constant to features since statsmodels.OLS doesn't add them.\n",
    "x_df = sm.add_constant(x_df)"
   ]
  },
  {
   "cell_type": "code",
   "execution_count": null,
   "metadata": {},
   "outputs": [],
   "source": [
    "x_df.head()"
   ]
  },
  {
   "cell_type": "code",
   "execution_count": null,
   "metadata": {},
   "outputs": [],
   "source": [
    "# Function to automate the feature elimination process\n",
    "# In each iteration, the faeture with max p-value & its p-value is greater than significance level, 0.05\n",
    "# is eliminated\n",
    "#The function returns the statistically significant features and the fitted OLS model.\n",
    "def feature_eliminate(x, y):\n",
    "    a = False\n",
    "    while a is False:\n",
    "        regressor = sm.OLS(endog= y , exog= x).fit()\n",
    "        for i in regressor.pvalues.values:\n",
    "            if  regressor.pvalues.values.max() > 0.05:\n",
    "                if i == regressor.pvalues.values.max():\n",
    "                    drop_feature = regressor.pvalues[regressor.pvalues == i].index[0]\n",
    "                    x = x.drop(columns = drop_feature)\n",
    "                    break\n",
    "            else:\n",
    "                a = True\n",
    "                break\n",
    "    return x, regressor"
   ]
  },
  {
   "cell_type": "code",
   "execution_count": null,
   "metadata": {},
   "outputs": [],
   "source": [
    "features_significant, model = feature_eliminate(x_df,y_df)"
   ]
  },
  {
   "cell_type": "code",
   "execution_count": null,
   "metadata": {},
   "outputs": [],
   "source": [
    "model.summary()"
   ]
  },
  {
   "cell_type": "markdown",
   "metadata": {},
   "source": [
    "# Linear Regression for statistically significant features."
   ]
  },
  {
   "cell_type": "code",
   "execution_count": null,
   "metadata": {},
   "outputs": [],
   "source": [
    "x_train_selected, x_test_selected, y_train_selected, y_test_selected = train_test_split(features_significant, y_df, test_size = 0.2)"
   ]
  },
  {
   "cell_type": "code",
   "execution_count": null,
   "metadata": {},
   "outputs": [],
   "source": [
    "lm4 = LinearRegression()\n",
    "lm4.fit(x_train_selected,y_train_selected)"
   ]
  },
  {
   "cell_type": "code",
   "execution_count": null,
   "metadata": {},
   "outputs": [],
   "source": [
    "lm4.intercept_, lm4.coef_"
   ]
  },
  {
   "cell_type": "code",
   "execution_count": null,
   "metadata": {},
   "outputs": [],
   "source": [
    "y_pred4 = lm4.predict(x_test_selected)"
   ]
  },
  {
   "cell_type": "code",
   "execution_count": null,
   "metadata": {},
   "outputs": [],
   "source": [
    "MAE4, MSE4, R_Sq4, RMSE4 = mean_absolute_error(y_test_selected,y_pred4), mean_squared_error(y_test_selected,y_pred4), r2_score(y_test_selected,y_pred4), np.sqrt(mean_squared_error(y_test_selected,y_pred4))\n",
    "R_Sq_adj4 = 1 - (1 - R_Sq4) * ((n - 1)/(n - p - 1))"
   ]
  },
  {
   "cell_type": "code",
   "execution_count": null,
   "metadata": {},
   "outputs": [],
   "source": [
    "print('MAE: {}, MSE: {}, R-squared: {}, RMSE: {}, R-Sq-Adj: {}'.format(round(MAE4,3), round(MSE4,3), round(R_Sq4,3), round(RMSE4,3), round(R_Sq_adj4,3)))"
   ]
  },
  {
   "cell_type": "markdown",
   "metadata": {},
   "source": [
    "# Models Comparison"
   ]
  },
  {
   "cell_type": "code",
   "execution_count": null,
   "metadata": {},
   "outputs": [],
   "source": [
    "pd.DataFrame([[MAE1, MSE1, R_Sq1, RMSE1, R_Sq_adj1],[MAE2, MSE2, R_Sq2, RMSE2, R_Sq_adj2],[MAE3, MSE3, R_Sq3, RMSE3, R_Sq_adj3],[MAE4, MSE4, R_Sq4, RMSE4, R_Sq_adj4]], columns=['MAE','MSE','R-Sq','RMSE','R-Sq-Adj'], index= ['Original_Data','Scaled_Data','Standardized_Data', 'Stat_Sign_Features'])"
   ]
  }
 ],
 "metadata": {
  "kernelspec": {
   "display_name": "Python 3",
   "language": "python",
   "name": "python3"
  },
  "language_info": {
   "codemirror_mode": {
    "name": "ipython",
    "version": 3
   },
   "file_extension": ".py",
   "mimetype": "text/x-python",
   "name": "python",
   "nbconvert_exporter": "python",
   "pygments_lexer": "ipython3",
   "version": "3.6.7"
  }
 },
 "nbformat": 4,
 "nbformat_minor": 2
}
